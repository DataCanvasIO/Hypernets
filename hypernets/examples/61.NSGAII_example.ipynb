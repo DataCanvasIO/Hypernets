{
 "cells": [
  {
   "cell_type": "markdown",
   "metadata": {},
   "source": [
    "# NSGA-II Searcher example\n",
    "\n",
    "This is an example about how using NSGAIISearcher for multi-objectives optimization.\n"
   ]
  },
  {
   "cell_type": "markdown",
   "metadata": {},
   "source": [
    "## 1. Import modules and prepare data"
   ]
  },
  {
   "cell_type": "code",
   "execution_count": 1,
   "metadata": {},
   "outputs": [
    {
     "name": "stderr",
     "output_type": "stream",
     "text": [
      "D:\\miniconda3\\envs\\hypergbm-dev\\lib\\site-packages\\tqdm\\auto.py:22: TqdmWarning: IProgress not found. Please update jupyter and ipywidgets. See https://ipywidgets.readthedocs.io/en/stable/user_install.html\n",
      "  from .autonotebook import tqdm as notebook_tqdm\n"
     ]
    }
   ],
   "source": [
    "from hypernets.core.random_state import set_random_state\n",
    "set_random_state(1234)\n",
    "\n",
    "from sklearn.preprocessing import LabelEncoder\n",
    "\n",
    "from hypernets.utils import logging as hyn_logging\n",
    "from hypernets.examples.plain_model import PlainModel, PlainSearchSpace\n",
    "from hypernets.searchers.nsga_searcher import RNSGAIISearcher\n",
    "\n",
    "from hypernets.experiment import make_experiment\n",
    "\n",
    "from hypernets.tabular import get_tool_box\n",
    "from hypernets.tabular.datasets import dsutils\n",
    "from hypernets.tabular.sklearn_ex import MultiLabelEncoder\n",
    "\n",
    "\n",
    "hyn_logging.set_level(hyn_logging.WARN)\n",
    "\n",
    "df = dsutils.load_bank().head(1000)\n",
    "df['y'] = LabelEncoder().fit_transform(df['y'])\n",
    "tb = get_tool_box(df)\n",
    "df_train, df_test = tb.train_test_split(df, test_size=0.2, random_state=9527)"
   ]
  },
  {
   "cell_type": "markdown",
   "metadata": {},
   "source": [
    "## 2. Run an experiment within NSGAIISearcher"
   ]
  },
  {
   "cell_type": "code",
   "execution_count": 2,
   "metadata": {},
   "outputs": [
    {
     "data": {
      "text/plain": [
       "[Pipeline(steps=[('data_clean',\n",
       "                  DataCleanStep(data_cleaner_args={'correct_object_dtype': True,\n",
       "                                                   'drop_columns': None,\n",
       "                                                   'drop_constant_columns': True,\n",
       "                                                   'drop_duplicated_columns': False,\n",
       "                                                   'drop_idness_columns': True,\n",
       "                                                   'drop_label_nan_rows': True,\n",
       "                                                   'int_convert_to': 'float',\n",
       "                                                   'nan_chars': None,\n",
       "                                                   'reduce_mem_usage': False,\n",
       "                                                   'reserve_columns': None},\n",
       "                                name='data_clean')),\n",
       "                 ('estimator',\n",
       "                  PlainEstimator:DecisionTreeClassifier(max_depth=3, random_state=65386))]),\n",
       " Pipeline(steps=[('data_clean',\n",
       "                  DataCleanStep(data_cleaner_args={'correct_object_dtype': True,\n",
       "                                                   'drop_columns': None,\n",
       "                                                   'drop_constant_columns': True,\n",
       "                                                   'drop_duplicated_columns': False,\n",
       "                                                   'drop_idness_columns': True,\n",
       "                                                   'drop_label_nan_rows': True,\n",
       "                                                   'int_convert_to': 'float',\n",
       "                                                   'nan_chars': None,\n",
       "                                                   'reduce_mem_usage': False,\n",
       "                                                   'reserve_columns': None},\n",
       "                                name='data_clean')),\n",
       "                 ('estimator',\n",
       "                  PlainEstimator:MLPClassifier(activation='tanh', learning_rate='adaptive', max_iter=2500,\n",
       "               random_state=34613, solver='sgd'))]),\n",
       " Pipeline(steps=[('data_clean',\n",
       "                  DataCleanStep(data_cleaner_args={'correct_object_dtype': True,\n",
       "                                                   'drop_columns': None,\n",
       "                                                   'drop_constant_columns': True,\n",
       "                                                   'drop_duplicated_columns': False,\n",
       "                                                   'drop_idness_columns': True,\n",
       "                                                   'drop_label_nan_rows': True,\n",
       "                                                   'int_convert_to': 'float',\n",
       "                                                   'nan_chars': None,\n",
       "                                                   'reduce_mem_usage': False,\n",
       "                                                   'reserve_columns': None},\n",
       "                                name='data_clean')),\n",
       "                 ('estimator',\n",
       "                  PlainEstimator:DecisionTreeClassifier(max_depth=5, random_state=4179, splitter='random'))])]"
      ]
     },
     "execution_count": 2,
     "metadata": {},
     "output_type": "execute_result"
    }
   ],
   "source": [
    "class CatPlainModel(PlainModel):\n",
    "\n",
    "    def export_trial_configuration(self, trial):\n",
    "        pass\n",
    "\n",
    "    def __init__(self, searcher, dispatcher=None, callbacks=None, reward_metric=None, task=None,\n",
    "                 discriminator=None):\n",
    "        super(CatPlainModel, self).__init__(searcher, dispatcher=dispatcher, callbacks=callbacks,\n",
    "                                            reward_metric=reward_metric, task=task)\n",
    "        self.transformer = MultiLabelEncoder\n",
    "\n",
    "\n",
    "experiment = make_experiment(CatPlainModel, df_train,\n",
    "                             eval_data=df_test.copy(),\n",
    "                             callbacks=[],\n",
    "                             search_callbacks=[],\n",
    "                             target='y',\n",
    "                             searcher=RNSGAIISearcher,  # available MOO searcher: moead, nsga2, rnsga2\n",
    "                             reward_metric='logloss',\n",
    "                             objectives=['elapsed'],\n",
    "                             drift_detection_threshold=0.4,\n",
    "                             drift_detection_min_features=3,\n",
    "                             drift_detection_remove_size=0.5,\n",
    "                             search_space=PlainSearchSpace(enable_dt=True, enable_lr=False, enable_nn=True))\n",
    "\n",
    "estimators = experiment.run(max_trials=30)\n",
    "estimators"
   ]
  },
  {
   "cell_type": "markdown",
   "metadata": {},
   "source": [
    "## 3. Summary trails"
   ]
  },
  {
   "cell_type": "code",
   "execution_count": 3,
   "metadata": {},
   "outputs": [
    {
     "data": {
      "text/html": [
       "<div>\n",
       "<style scoped>\n",
       "    .dataframe tbody tr th:only-of-type {\n",
       "        vertical-align: middle;\n",
       "    }\n",
       "\n",
       "    .dataframe tbody tr th {\n",
       "        vertical-align: top;\n",
       "    }\n",
       "\n",
       "    .dataframe thead th {\n",
       "        text-align: right;\n",
       "    }\n",
       "</style>\n",
       "<table border=\"1\" class=\"dataframe\">\n",
       "  <thead>\n",
       "    <tr style=\"text-align: right;\">\n",
       "      <th></th>\n",
       "      <th>trial_no</th>\n",
       "      <th>succeeded</th>\n",
       "      <th>non-dominated</th>\n",
       "      <th>reward-logloss</th>\n",
       "      <th>reward-elapsed</th>\n",
       "      <th>model-index</th>\n",
       "    </tr>\n",
       "  </thead>\n",
       "  <tbody>\n",
       "    <tr>\n",
       "      <th>3</th>\n",
       "      <td>4</td>\n",
       "      <td>True</td>\n",
       "      <td>True</td>\n",
       "      <td>0.467644</td>\n",
       "      <td>0.008966</td>\n",
       "      <td>0.0</td>\n",
       "    </tr>\n",
       "    <tr>\n",
       "      <th>6</th>\n",
       "      <td>7</td>\n",
       "      <td>True</td>\n",
       "      <td>True</td>\n",
       "      <td>0.431534</td>\n",
       "      <td>0.486366</td>\n",
       "      <td>1.0</td>\n",
       "    </tr>\n",
       "    <tr>\n",
       "      <th>14</th>\n",
       "      <td>17</td>\n",
       "      <td>True</td>\n",
       "      <td>True</td>\n",
       "      <td>1.063696</td>\n",
       "      <td>0.007973</td>\n",
       "      <td>2.0</td>\n",
       "    </tr>\n",
       "  </tbody>\n",
       "</table>\n",
       "</div>"
      ],
      "text/plain": [
       "    trial_no  succeeded  non-dominated  reward-logloss  reward-elapsed  \\\n",
       "3          4       True           True        0.467644        0.008966   \n",
       "6          7       True           True        0.431534        0.486366   \n",
       "14        17       True           True        1.063696        0.007973   \n",
       "\n",
       "    model-index  \n",
       "3           0.0  \n",
       "6           1.0  \n",
       "14          2.0  "
      ]
     },
     "execution_count": 3,
     "metadata": {},
     "output_type": "execute_result"
    }
   ],
   "source": [
    "df_trials = experiment.hyper_model_.history.to_df()\n",
    "\n",
    "df_trials[df_trials['non-dominated'] == True][['trial_no', 'succeeded', 'non-dominated', 'reward-logloss', 'reward-elapsed', 'model-index']]"
   ]
  },
  {
   "cell_type": "markdown",
   "metadata": {},
   "source": [
    "## 4. Plot pareto font\n",
    "\n",
    "We can pick model accord to Decision Maker's preferences from the pareto plot, the number in the figure indicates the index of pipeline models.\n"
   ]
  },
  {
   "cell_type": "code",
   "execution_count": 4,
   "metadata": {},
   "outputs": [
    {
     "data": {
      "image/png": "[encoded data removed]",
      "text/plain": [
       "<Figure size 600x600 with 1 Axes>"
      ]
     },
     "metadata": {},
     "output_type": "display_data"
    }
   ],
   "source": [
    "fig, ax  = experiment.hyper_model_.history.plot_best_trials()\n",
    "fig.show()"
   ]
  },
  {
   "cell_type": "markdown",
   "metadata": {},
   "source": [
    "## 5. Evaluate the selected model"
   ]
  },
  {
   "cell_type": "code",
   "execution_count": 5,
   "metadata": {},
   "outputs": [
    {
     "name": "stdout",
     "output_type": "stream",
     "text": [
      "Number of pipeline: 3 \n"
     ]
    },
    {
     "data": {
      "text/plain": [
       "{'auc': 0.6876860119047619,\n",
       " 'accuracy': 0.71,\n",
       " 'f1': 0.17142857142857143,\n",
       " 'recall': 0.1875,\n",
       " 'precision': 0.15789473684210525}"
      ]
     },
     "execution_count": 5,
     "metadata": {},
     "output_type": "execute_result"
    }
   ],
   "source": [
    "print(f\"Number of pipeline: {len(estimators)} \")\n",
    "\n",
    "pipeline_model = estimators[0]  # selection the first pipeline model\n",
    "X_test = df_test.copy()\n",
    "y_test = X_test.pop('y')\n",
    "\n",
    "preds = pipeline_model.predict(X_test)\n",
    "proba = pipeline_model.predict_proba(X_test)\n",
    "\n",
    "tb.metrics.calc_score(y_test, preds, proba, metrics=['auc', 'accuracy', 'f1', 'recall', 'precision'])"
   ]
  },
  {
   "cell_type": "code",
   "execution_count": null,
   "metadata": {},
   "outputs": [],
   "source": []
  }
 ],
 "metadata": {
  "kernelspec": {
   "display_name": "Python 3 (ipykernel)",
   "language": "python",
   "name": "python3"
  },
  "language_info": {
   "codemirror_mode": {
    "name": "ipython",
    "version": 3
   },
   "file_extension": ".py",
   "mimetype": "text/x-python",
   "name": "python",
   "nbconvert_exporter": "python",
   "pygments_lexer": "ipython3",
   "version": "3.8.16"
  }
 },
 "nbformat": 4,
 "nbformat_minor": 1
}
