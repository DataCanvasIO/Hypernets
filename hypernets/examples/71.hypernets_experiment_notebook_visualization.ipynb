{
 "cells": [
  {
   "cell_type": "markdown",
   "id": "7b62385d",
   "metadata": {},
   "source": [
    "# Hypernets experiment visualization in notebook\n",
    "\n",
    "Hypernets provides features to help you better use experiments in notebooks, including:\n",
    "\n",
    "1. show experiment dataset information\n",
    "2. show experiment configuration\n",
    "\n",
    "Note that these features is optional, make sure you are installing hypernets by the command \n",
    "```\n",
    "pip install hypernets[notebook]\n",
    "```\n",
    "If you do not installed the notebook widget, please install it by command \n",
    "```\n",
    "pip install hyperboard-widget\n",
    "```\n",
    "\n",
    "This is an example of how to use these features in [jupyter notebook](https://jupyter.org/).\n"
   ]
  },
  {
   "cell_type": "code",
   "execution_count": null,
   "id": "fc6c2ccf",
   "metadata": {},
   "outputs": [],
   "source": [
    "import warnings\n",
    "warnings.filterwarnings('ignore')\n",
    "\n",
    "from sklearn.model_selection import train_test_split\n",
    "\n",
    "from hypernets.examples.plain_model import PlainModel, PlainSearchSpace\n",
    "from hypernets.experiment import make_experiment\n",
    "from hypernets.tabular.datasets import dsutils"
   ]
  },
  {
   "cell_type": "markdown",
   "id": "e3edbba9",
   "metadata": {},
   "source": [
    "## Build hypernets experiment and show configuration\n"
   ]
  },
  {
   "cell_type": "code",
   "execution_count": null,
   "id": "072240bf",
   "metadata": {},
   "outputs": [],
   "source": [
    "df = dsutils.load_boston()\n",
    "df_train, df_eval = train_test_split(df, test_size=0.2)\n",
    "experiment = make_experiment(PlainModel, df_train,\n",
    "                             target='target',\n",
    "                             search_space=PlainSearchSpace())\n",
    "experiment"
   ]
  },
  {
   "cell_type": "markdown",
   "id": "e18b3f0f",
   "metadata": {},
   "source": [
    "## Show experiment dataset information"
   ]
  },
  {
   "cell_type": "code",
   "execution_count": null,
   "id": "446edf0b",
   "metadata": {},
   "outputs": [],
   "source": [
    "experiment.plot_dataset()"
   ]
  }
 ],
 "metadata": {
  "kernelspec": {
   "display_name": "Python 3 (ipykernel)",
   "language": "python",
   "name": "python3"
  },
  "language_info": {
   "codemirror_mode": {
    "name": "ipython",
    "version": 3
   },
   "file_extension": ".py",
   "mimetype": "text/x-python",
   "name": "python",
   "nbconvert_exporter": "python",
   "pygments_lexer": "ipython3",
   "version": "3.7.11"
  }
 },
 "nbformat": 4,
 "nbformat_minor": 5
}
