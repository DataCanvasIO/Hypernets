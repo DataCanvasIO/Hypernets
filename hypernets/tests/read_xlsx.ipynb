{
 "cells": [
  {
   "cell_type": "code",
   "execution_count": 2,
   "metadata": {
    "collapsed": true
   },
   "outputs": [
    {
     "name": "stdout",
     "output_type": "stream",
     "text": [
      "/mnt/c/Users/wuhf/Desktop/hyperctl/demo/batches-data/batch-openml-cpu/16rDIjXP/report.xlsx\n",
      "/mnt/c/Users/wuhf/Desktop/hyperctl/demo/batches-data/batch-openml-cpu/1bduqSzQ/report.xlsx\n",
      "/mnt/c/Users/wuhf/Desktop/hyperctl/demo/batches-data/batch-openml-cpu/211237/report.xlsx\n",
      "/mnt/c/Users/wuhf/Desktop/hyperctl/demo/batches-data/batch-openml-cpu/2280/report.xlsx\n",
      "/mnt/c/Users/wuhf/Desktop/hyperctl/demo/batches-data/batch-openml-cpu/2285/report.xlsx\n",
      "/mnt/c/Users/wuhf/Desktop/hyperctl/demo/batches-data/batch-openml-cpu/2295/report.xlsx\n",
      "/mnt/c/Users/wuhf/Desktop/hyperctl/demo/batches-data/batch-openml-cpu/4729/report.xlsx\n",
      "/mnt/c/Users/wuhf/Desktop/hyperctl/demo/batches-data/batch-openml-cpu/4823/report.xlsx\n",
      "/mnt/c/Users/wuhf/Desktop/hyperctl/demo/batches-data/batch-openml-cpu/4834/report.xlsx\n",
      "/mnt/c/Users/wuhf/Desktop/hyperctl/demo/batches-data/batch-openml-cpu/4839/report.xlsx\n",
      "/mnt/c/Users/wuhf/Desktop/hyperctl/demo/batches-data/batch-openml-cpu/4850/report.xlsx\n",
      "/mnt/c/Users/wuhf/Desktop/hyperctl/demo/batches-data/batch-openml-cpu/4883/report.xlsx\n",
      "/mnt/c/Users/wuhf/Desktop/hyperctl/demo/batches-data/batch-openml-cpu/4958/report.xlsx\n",
      "/mnt/c/Users/wuhf/Desktop/hyperctl/demo/batches-data/batch-openml-cpu/4990/report.xlsx\n",
      "/mnt/c/Users/wuhf/Desktop/hyperctl/demo/batches-data/batch-openml-cpu/5012/report.xlsx\n",
      "/mnt/c/Users/wuhf/Desktop/hyperctl/demo/batches-data/batch-openml-cpu/52948/report.xlsx\n",
      "/mnt/c/Users/wuhf/Desktop/hyperctl/demo/batches-data/batch-openml-cpu/5514/report.xlsx\n",
      "/mnt/c/Users/wuhf/Desktop/hyperctl/demo/batches-data/batch-openml-cpu/7hhDFNsw/report.xlsx\n",
      "/mnt/c/Users/wuhf/Desktop/hyperctl/demo/batches-data/batch-openml-cpu/88uVeYUe/report.xlsx\n",
      "/mnt/c/Users/wuhf/Desktop/hyperctl/demo/batches-data/batch-openml-cpu/8Urt2JAd/report.xlsx\n",
      "/mnt/c/Users/wuhf/Desktop/hyperctl/demo/batches-data/batch-openml-cpu/8z8hsPgd/report.xlsx\n",
      "/mnt/c/Users/wuhf/Desktop/hyperctl/demo/batches-data/batch-openml-cpu/9XuFvHMU/report.xlsx\n",
      "/mnt/c/Users/wuhf/Desktop/hyperctl/demo/batches-data/batch-openml-cpu/AcPfTR1O/report.xlsx\n",
      "/mnt/c/Users/wuhf/Desktop/hyperctl/demo/batches-data/batch-openml-cpu/AECtFLFg/report.xlsx\n",
      "/mnt/c/Users/wuhf/Desktop/hyperctl/demo/batches-data/batch-openml-cpu/aeiHaM1I/report.xlsx\n",
      "/mnt/c/Users/wuhf/Desktop/hyperctl/demo/batches-data/batch-openml-cpu/AoUoiwmF/report.xlsx\n",
      "/mnt/c/Users/wuhf/Desktop/hyperctl/demo/batches-data/batch-openml-cpu/B75d3q8Q/report.xlsx\n",
      "/mnt/c/Users/wuhf/Desktop/hyperctl/demo/batches-data/batch-openml-cpu/BH32Nb81/report.xlsx\n",
      "/mnt/c/Users/wuhf/Desktop/hyperctl/demo/batches-data/batch-openml-cpu/BTyHwS6j/report.xlsx\n",
      "/mnt/c/Users/wuhf/Desktop/hyperctl/demo/batches-data/batch-openml-cpu/bVFgLlLO/report.xlsx\n",
      "/mnt/c/Users/wuhf/Desktop/hyperctl/demo/batches-data/batch-openml-cpu/cIfovetV/report.xlsx\n",
      "/mnt/c/Users/wuhf/Desktop/hyperctl/demo/batches-data/batch-openml-cpu/CW0X2O40/report.xlsx\n",
      "/mnt/c/Users/wuhf/Desktop/hyperctl/demo/batches-data/batch-openml-cpu/D39M3B7F/report.xlsx\n",
      "/mnt/c/Users/wuhf/Desktop/hyperctl/demo/batches-data/batch-openml-cpu/DpGzydw5/report.xlsx\n",
      "/mnt/c/Users/wuhf/Desktop/hyperctl/demo/batches-data/batch-openml-cpu/DX58aKlj/report.xlsx\n",
      "/mnt/c/Users/wuhf/Desktop/hyperctl/demo/batches-data/batch-openml-cpu/dY6JxoTq/report.xlsx\n",
      "/mnt/c/Users/wuhf/Desktop/hyperctl/demo/batches-data/batch-openml-cpu/FAsbqznk/report.xlsx\n",
      "/mnt/c/Users/wuhf/Desktop/hyperctl/demo/batches-data/batch-openml-cpu/fWjbqZTM/report.xlsx\n",
      "/mnt/c/Users/wuhf/Desktop/hyperctl/demo/batches-data/batch-openml-cpu/gwjeLmEp/report.xlsx\n",
      "/mnt/c/Users/wuhf/Desktop/hyperctl/demo/batches-data/batch-openml-cpu/HfG7OAiS/report.xlsx\n",
      "/mnt/c/Users/wuhf/Desktop/hyperctl/demo/batches-data/batch-openml-cpu/HMcsq8i1/report.xlsx\n",
      "/mnt/c/Users/wuhf/Desktop/hyperctl/demo/batches-data/batch-openml-cpu/i8Zib9Sm/report.xlsx\n",
      "/mnt/c/Users/wuhf/Desktop/hyperctl/demo/batches-data/batch-openml-cpu/is9HwgGK/report.xlsx\n",
      "/mnt/c/Users/wuhf/Desktop/hyperctl/demo/batches-data/batch-openml-cpu/izNbsTqz/report.xlsx\n",
      "/mnt/c/Users/wuhf/Desktop/hyperctl/demo/batches-data/batch-openml-cpu/j5MAtGLJ/report.xlsx\n",
      "/mnt/c/Users/wuhf/Desktop/hyperctl/demo/batches-data/batch-openml-cpu/Jje6X6ph/report.xlsx\n",
      "/mnt/c/Users/wuhf/Desktop/hyperctl/demo/batches-data/batch-openml-cpu/JrHIAoAG/report.xlsx\n",
      "/mnt/c/Users/wuhf/Desktop/hyperctl/demo/batches-data/batch-openml-cpu/kHyMzAvu/report.xlsx\n",
      "/mnt/c/Users/wuhf/Desktop/hyperctl/demo/batches-data/batch-openml-cpu/kwzdlYQi/report.xlsx\n",
      "/mnt/c/Users/wuhf/Desktop/hyperctl/demo/batches-data/batch-openml-cpu/LpO7Dmf0/report.xlsx\n",
      "/mnt/c/Users/wuhf/Desktop/hyperctl/demo/batches-data/batch-openml-cpu/MDgMEc8D/report.xlsx\n",
      "/mnt/c/Users/wuhf/Desktop/hyperctl/demo/batches-data/batch-openml-cpu/MsCtiLuM/report.xlsx\n",
      "/mnt/c/Users/wuhf/Desktop/hyperctl/demo/batches-data/batch-openml-cpu/mTUGD0Bw/report.xlsx\n",
      "/mnt/c/Users/wuhf/Desktop/hyperctl/demo/batches-data/batch-openml-cpu/NJapgBUE/report.xlsx\n",
      "/mnt/c/Users/wuhf/Desktop/hyperctl/demo/batches-data/batch-openml-cpu/nkKbJDAW/report.xlsx\n",
      "/mnt/c/Users/wuhf/Desktop/hyperctl/demo/batches-data/batch-openml-cpu/NlUIz89f/report.xlsx\n",
      "/mnt/c/Users/wuhf/Desktop/hyperctl/demo/batches-data/batch-openml-cpu/NyccEAI6/report.xlsx\n",
      "/mnt/c/Users/wuhf/Desktop/hyperctl/demo/batches-data/batch-openml-cpu/OKrpPh34/report.xlsx\n",
      "/mnt/c/Users/wuhf/Desktop/hyperctl/demo/batches-data/batch-openml-cpu/P8YC69qJ/report.xlsx\n",
      "/mnt/c/Users/wuhf/Desktop/hyperctl/demo/batches-data/batch-openml-cpu/pi31qiRd/report.xlsx\n",
      "/mnt/c/Users/wuhf/Desktop/hyperctl/demo/batches-data/batch-openml-cpu/pMVTldZ6/report.xlsx\n",
      "/mnt/c/Users/wuhf/Desktop/hyperctl/demo/batches-data/batch-openml-cpu/pq49lEtn/report.xlsx\n",
      "/mnt/c/Users/wuhf/Desktop/hyperctl/demo/batches-data/batch-openml-cpu/pTIdeafe/report.xlsx\n",
      "/mnt/c/Users/wuhf/Desktop/hyperctl/demo/batches-data/batch-openml-cpu/qqXWiRIT/report.xlsx\n",
      "/mnt/c/Users/wuhf/Desktop/hyperctl/demo/batches-data/batch-openml-cpu/rQ2fvPOj/report.xlsx\n",
      "/mnt/c/Users/wuhf/Desktop/hyperctl/demo/batches-data/batch-openml-cpu/S0rbofx2/report.xlsx\n",
      "/mnt/c/Users/wuhf/Desktop/hyperctl/demo/batches-data/batch-openml-cpu/tDc5OCWs/report.xlsx\n",
      "/mnt/c/Users/wuhf/Desktop/hyperctl/demo/batches-data/batch-openml-cpu/tS2zbRM5/report.xlsx\n",
      "/mnt/c/Users/wuhf/Desktop/hyperctl/demo/batches-data/batch-openml-cpu/tSQcK8qG/report.xlsx\n",
      "/mnt/c/Users/wuhf/Desktop/hyperctl/demo/batches-data/batch-openml-cpu/U6L7VoDc/report.xlsx\n",
      "/mnt/c/Users/wuhf/Desktop/hyperctl/demo/batches-data/batch-openml-cpu/UBFyIDfW/report.xlsx\n",
      "/mnt/c/Users/wuhf/Desktop/hyperctl/demo/batches-data/batch-openml-cpu/UBzQESUA/report.xlsx\n",
      "/mnt/c/Users/wuhf/Desktop/hyperctl/demo/batches-data/batch-openml-cpu/Uiryri71/report.xlsx\n",
      "/mnt/c/Users/wuhf/Desktop/hyperctl/demo/batches-data/batch-openml-cpu/uOYVTYY1/report.xlsx\n",
      "/mnt/c/Users/wuhf/Desktop/hyperctl/demo/batches-data/batch-openml-cpu/uWYFqSf4/report.xlsx\n",
      "/mnt/c/Users/wuhf/Desktop/hyperctl/demo/batches-data/batch-openml-cpu/wfYGeI6s/report.xlsx\n",
      "/mnt/c/Users/wuhf/Desktop/hyperctl/demo/batches-data/batch-openml-cpu/Wl7OPLwH/report.xlsx\n",
      "/mnt/c/Users/wuhf/Desktop/hyperctl/demo/batches-data/batch-openml-cpu/wtAtrLKn/report.xlsx\n",
      "/mnt/c/Users/wuhf/Desktop/hyperctl/demo/batches-data/batch-openml-cpu/XaVTjApR/report.xlsx\n",
      "/mnt/c/Users/wuhf/Desktop/hyperctl/demo/batches-data/batch-openml-cpu/xnFYbRGS/report.xlsx\n",
      "/mnt/c/Users/wuhf/Desktop/hyperctl/demo/batches-data/batch-openml-cpu/xWsSwOEM/report.xlsx\n",
      "/mnt/c/Users/wuhf/Desktop/hyperctl/demo/batches-data/batch-openml-cpu/yA9yCufc/report.xlsx\n",
      "/mnt/c/Users/wuhf/Desktop/hyperctl/demo/batches-data/batch-openml-cpu/YnH5X0dI/report.xlsx\n",
      "/mnt/c/Users/wuhf/Desktop/hyperctl/demo/batches-data/batch-openml-cpu/YqegzLjS/report.xlsx\n",
      "/mnt/c/Users/wuhf/Desktop/hyperctl/demo/batches-data/batch-openml-cpu/Zt5wZIbR/report.xlsx\n",
      "/mnt/c/Users/wuhf/Desktop/hyperctl/demo/batches-data/batch-openml-cpu/zu4Dem8O/report.xlsx\n"
     ]
    }
   ],
   "source": [
    "import os\n",
    "\n",
    "basedir = \"/mnt/c/Users/wuhf/Desktop/hyperctl/demo/batches-data/batch-openml-cpu\"\n",
    "\n",
    "for file_ in os.listdir(basedir):\n",
    "    abs_file_ = os.path.join(basedir, file_, 'report.xlsx')\n",
    "    # print(abs_file_)\n",
    "    if os.path.exists(abs_file_):\n",
    "        print(abs_file_)"
   ]
  },
  {
   "cell_type": "code",
   "execution_count": 3,
   "outputs": [],
   "source": [
    "import xlrd"
   ],
   "metadata": {
    "collapsed": false,
    "pycharm": {
     "name": "#%%\n"
    }
   }
  },
  {
   "cell_type": "code",
   "execution_count": null,
   "outputs": [],
   "source": [
    "import xlrd\n",
    "filepath = \"/mnt/c/Users/wuhf/Desktop/hyperctl/demo/batches-data/batch-openml-cpu/7hhDFNsw/report.xlsx\"\n",
    "data = xlrd.open_workbook(文件路径)"
   ],
   "metadata": {
    "collapsed": false,
    "pycharm": {
     "name": "#%%\n"
    }
   }
  },
  {
   "cell_type": "code",
   "execution_count": null,
   "outputs": [],
   "source": [],
   "metadata": {
    "collapsed": false,
    "pycharm": {
     "name": "#%%\n"
    }
   }
  }
 ],
 "metadata": {
  "kernelspec": {
   "display_name": "Python 3",
   "language": "python",
   "name": "python3"
  },
  "language_info": {
   "codemirror_mode": {
    "name": "ipython",
    "version": 2
   },
   "file_extension": ".py",
   "mimetype": "text/x-python",
   "name": "python",
   "nbconvert_exporter": "python",
   "pygments_lexer": "ipython2",
   "version": "2.7.6"
  }
 },
 "nbformat": 4,
 "nbformat_minor": 0
}